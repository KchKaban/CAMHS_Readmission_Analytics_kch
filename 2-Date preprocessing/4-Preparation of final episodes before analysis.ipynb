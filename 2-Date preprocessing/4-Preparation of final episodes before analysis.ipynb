{
 "cells": [
  {
   "cell_type": "markdown",
   "metadata": {},
   "source": [
    "Preparation of dataframes just before data analysis <br>\n",
    "QUICK information about following datasets: <br>\n",
    "* diagnoses_phecode_list_df <br>\n",
    "* diagnoses_ICD10_df <br>\n",
    "* prescriptions_df <br>\n",
    "* prescriptions_ATC4_list_df <br>\n",
    "* episodes : before merging the episodes <br>\n",
    "* full_episodes : after merging the episodes <br>\n",
    "* final_episodes : removing some outliers, and adding all the calculated features not the ones related to diagnoses and medications \n",
    "episodes <br>\n",
    "* fullHot_episodes : All the calculated features PLUS the ones related to diagnoses and medications and some more <br>\n",
    "* ######################\n",
    "* Full_Phecode_ATC4 : merging of fullHot_episodes and actual diagnoses(Phecodes) and medications(ATC4)  <br>\n",
    "* Full_Phecode_ATC : merging of fullHot_episodes and actual diagnoses(Phecodes) and medications(ATC)  <br>\n",
    "* Full_ICD10_ATC : merging of fullHot_episodes and actual diagnoses(ICD10) and medications(ATC) <br>"
   ]
  },
  {
   "cell_type": "code",
   "execution_count": 1,
   "metadata": {},
   "outputs": [],
   "source": [
    "import pandas as pd\n",
    "import numpy as np"
   ]
  },
  {
   "cell_type": "code",
   "execution_count": 18,
   "metadata": {},
   "outputs": [
    {
     "name": "stdout",
     "output_type": "stream",
     "text": [
      "   episode_id                diagnoses\n",
      "0          10  ['3009', '313', '3131']\n",
      "1       10001          ['2972', '969']\n",
      "2       10002                 ['3131']\n",
      "16390\n"
     ]
    }
   ],
   "source": [
    "diagnoses_phecode_list_df = pd.read_csv(\"/home/kabank/workbench/.conda/analysis/kabank-data/diagnoses_listed.csv\")\n",
    "diagnoses_phecode_list_df['episode_id'] = diagnoses_phecode_list_df['episode_id'].astype(int)\n",
    "print(diagnoses_phecode_list_df.head(3))\n",
    "print(len(diagnoses_phecode_list_df)) #16,390 episodes"
   ]
  },
  {
   "cell_type": "code",
   "execution_count": 25,
   "metadata": {},
   "outputs": [
    {
     "name": "stdout",
     "output_type": "stream",
     "text": [
      "42803\n",
      "   episode_id diagnosis_ICD10\n",
      "0           4    [F900, G479]\n",
      "1           5          [H811]\n",
      "2           6          [F931]\n",
      "16552\n",
      "16552\n"
     ]
    }
   ],
   "source": [
    "diagnoses_ICD10_df = pd.read_csv( \"/home/kabank/workbench/.conda/analysis/Resources/Diagnosis.CSV\", decimal=',')\n",
    "# Remove duplicates from diagnoses_ICD10_df\n",
    "print(len(diagnoses_ICD10_df))\n",
    "diagnoses_ICD10_df['episode_id'] = diagnoses_ICD10_df['episode_id'].astype(float).astype(int)\n",
    "\n",
    "diagnoses_ICD10_list_df = diagnoses_ICD10_df.groupby('episode_id').agg({\n",
    "    'diagnosis': lambda x: list(set(x))\n",
    "})\n",
    "diagnoses_ICD10_list_df.rename(columns={'diagnosis': 'diagnosis_ICD10'}, inplace=True)\n",
    "diagnoses_ICD10_list_df = diagnoses_ICD10_list_df.reset_index()\n",
    "\n",
    "print(diagnoses_ICD10_list_df.head(3))\n",
    "print(len(diagnoses_ICD10_list_df))\n",
    "print(diagnoses_ICD10_list_df['episode_id'].nunique())"
   ]
  },
  {
   "cell_type": "code",
   "execution_count": 26,
   "metadata": {},
   "outputs": [
    {
     "name": "stdout",
     "output_type": "stream",
     "text": [
      "44685\n",
      "   episode_id                              atc_code\n",
      "0           9                    [N06AB03, N06AB06]\n",
      "1          27  [N06BA04, N06AB06, N05CH01, R06AD01]\n",
      "2          28                    [N06AB03, N06AB06]\n",
      "4463\n",
      "4463\n"
     ]
    }
   ],
   "source": [
    "# Prescriptions\n",
    "#Sql query for extracting prescriptions \n",
    "prescriptions_df = pd.read_csv( \"/home/kabank/workbench/.conda/analysis/kabank-data/prescriptionsEachSak.csv\")\n",
    "prescriptions_df.dropna(subset=['episode_id', ], inplace=True)\n",
    "prescriptions_df['episode_id'] = prescriptions_df['episode_id'].astype(int)\n",
    "print(len(prescriptions_df)) #44685 episodes\n",
    "\n",
    "prescriptions_ATC_list_df = prescriptions_df.groupby('episode_id').agg({\n",
    "    'atc_code': lambda x: list(set(x))\n",
    "})\n",
    "prescriptions_ATC_list_df = prescriptions_ATC_list_df.reset_index()\n",
    "#print(len(prescriptions_ATC_list_df))# 4463 episodes\n",
    "print(prescriptions_ATC_list_df.head(3))\n",
    "print(len(prescriptions_ATC_list_df))\n",
    "print(prescriptions_ATC_list_df['episode_id'].nunique())"
   ]
  },
  {
   "cell_type": "code",
   "execution_count": 28,
   "metadata": {},
   "outputs": [
    {
     "name": "stdout",
     "output_type": "stream",
     "text": [
      "   episode_id                      ATC4\n",
      "0           9                    [N06A]\n",
      "1          27  [N05C, R06A, N06A, N06B]\n",
      "2          28                    [N06A]\n",
      "4463\n",
      "4463\n"
     ]
    }
   ],
   "source": [
    "# Prescriptions\n",
    "#Sql query for extracting prescriptions had 56,167 rows\n",
    "prescriptions_df2 = pd.read_csv( \"/home/kabank/workbench/.conda/analysis/kabank-data/prescriptionsEachSak.csv\")\n",
    "prescriptions_df2 = prescriptions_df2.dropna(subset=['episode_id'])\n",
    "prescriptions_df2['ATC4'] = prescriptions_df2['atc_code'].str[:4]\n",
    "prescriptions_df2['episode_id'] = prescriptions_df2['episode_id'].astype(int)\n",
    "prescriptions_df2.head(3)\n",
    "prescriptions_ATC4_list_df = prescriptions_df2.groupby('episode_id').agg({\n",
    "    'ATC4': lambda x: list(set(x))\n",
    "})\n",
    "\n",
    "prescriptions_ATC4_list_df = prescriptions_ATC4_list_df.reset_index()\n",
    "\n",
    "#print(len(prescriptions_ATC4_list_df))# 4463 episodes\n",
    "print(prescriptions_ATC4_list_df.head(3))\n",
    "print(len(prescriptions_ATC4_list_df))\n",
    "print(prescriptions_ATC4_list_df['episode_id'].nunique())"
   ]
  },
  {
   "cell_type": "code",
   "execution_count": 7,
   "metadata": {},
   "outputs": [
    {
     "name": "stdout",
     "output_type": "stream",
     "text": [
      "Columns of episodes:\n",
      " Index(['pasient', 'episode_id', 'patient_age', 'remaining_time_countdown',\n",
      "       'var_no_dates_permonth', 'gender', 'episode_order', 'islast',\n",
      "       'closingcode', 'aftercode', 'instanskode', 'episode_start_date',\n",
      "       'episode_end_date', 'length_of_episode', 'tillnextepisode',\n",
      "       'starttillnextstart', 'count_poliklinikk', 'count_familieavdeling',\n",
      "       'count_dagavdeling', 'count_dognavdeling', 'count_osv',\n",
      "       'count_outpatient', 'count_inpatient', 'count_lmssciadm',\n",
      "       'count_inpatient_day', 'count_inpatient_daynight', 'count_terapi',\n",
      "       'count_undersokelse', 'count_radge', 'count_behplanlegging',\n",
      "       'count_ikkemott', 'count_others'],\n",
      "      dtype='object') \n",
      " len: 24461\n",
      "\n",
      "\n",
      "Columns of full_episodes:\n",
      " Index(['Unnamed: 0', 'pasient', 'episode_id', 'age',\n",
      "       'remaining_time_countdown', 'var_no_dates_permonth', 'gender',\n",
      "       'episode_order', 'islast', 'closingcode', 'aftercode', 'instanskode',\n",
      "       'episode_start_date', 'episode_end_date', 'count_poliklinikk',\n",
      "       'count_familieavdeling', 'count_dagavdeling', 'count_dognavdeling',\n",
      "       'count_osv', 'count_outpatient', 'count_inpatient', 'count_lmssciadm',\n",
      "       'count_inpatient_day', 'count_inpatient_daynight', 'count_terapi',\n",
      "       'count_undersokelse', 'count_radge', 'count_behplanlegging',\n",
      "       'count_ikkemott', 'count_others', 'tillnextepisode',\n",
      "       'starttillnextstart', 'Length_of_Episode'],\n",
      "      dtype='object') \n",
      " len: 22857\n"
     ]
    }
   ],
   "source": [
    "episodes = pd.read_csv('/home/kabank/workbench/.conda/analysis/Resources/epiosdes2.csv') # before merge 18646\n",
    "full_episodes = pd.read_csv('/home/kabank/workbench/.conda/analysis/Resources/full_episodes.csv') # after merge 17433\n",
    "full_episodes.to_csv('/home/kabank/workbench/.conda/analysis/kabank-data/new-data/full_episodes.csv', index=False)\n",
    "print('Columns of episodes:\\n', episodes.columns, '\\n len:', len(episodes))\n",
    "print('\\n')\n",
    "print('Columns of full_episodes:\\n', full_episodes.columns, '\\n len:', len(full_episodes))"
   ]
  },
  {
   "cell_type": "code",
   "execution_count": 29,
   "metadata": {},
   "outputs": [
    {
     "name": "stdout",
     "output_type": "stream",
     "text": [
      "gender\n",
      "M    11898\n",
      "F    10731\n",
      "0       47\n",
      "Name: count, dtype: int64\n",
      "(22676, 38)\n",
      "(22676, 59)\n",
      "(22676, 40)\n",
      "Number of rows in final_episodes:\n",
      " 22676\n",
      "Columns of final_episodes:\n",
      " Index(['Unnamed: 0', 'pasient', 'episode_id', 'age',\n",
      "       'remaining_time_countdown', 'var_no_dates_permonth', 'gender',\n",
      "       'episode_order', 'islast', 'closingcode', 'aftercode',\n",
      "       'episode_start_date', 'episode_end_date', 'tillnextepisode',\n",
      "       'Length_of_Episode', 'Cat_LOE', 'Cat_TNE', 'TNE_BO_180', 'TNE_NO_180',\n",
      "       'TNE_BO_365', 'TNE_NO_365', 'TNE_BO_730', 'TNE_NO_730', 'TNE_BO_1095',\n",
      "       'TNE_NO_1095', 'Cat_LOE_desc', 'Count_visit', 'Cat_CV', 'Therapy_ratio',\n",
      "       'Examination_ratio', 'Advisory_ratio', 'TreatmentPlanning_ratio',\n",
      "       'Outpatient_ratio', 'Inpatient_ratio', 'Inpatient_day_ratio',\n",
      "       'Inpatient_daynight_ratio', 'Care_intensity', 'age_group',\n",
      "       'num_diagnoses', 'num_medications'],\n",
      "      dtype='object')\n",
      "\n",
      "\n",
      "Number of rows in fullHot_episodes:\n",
      " 22676\n",
      "Columns of fullHot_episodes:\n",
      " Index(['episode_id', 'num_diagnoses', 'num_medications', 'Unnamed: 0',\n",
      "       'pasient', 'age', 'remaining_time_countdown', 'var_no_dates_permonth',\n",
      "       'gender', 'episode_order', 'islast', 'closingcode', 'aftercode',\n",
      "       'episode_start_date', 'episode_end_date', 'tillnextepisode',\n",
      "       'Length_of_Episode', 'Cat_LOE', 'Cat_TNE', 'TNE_BO_180', 'TNE_NO_180',\n",
      "       'TNE_BO_365', 'TNE_NO_365', 'TNE_BO_730', 'TNE_NO_730', 'TNE_BO_1095',\n",
      "       'TNE_NO_1095', 'Cat_LOE_desc', 'Count_visit', 'Cat_CV', 'Therapy_ratio',\n",
      "       'Examination_ratio', 'Advisory_ratio', 'TreatmentPlanning_ratio',\n",
      "       'Outpatient_ratio', 'Inpatient_ratio', 'Inpatient_day_ratio',\n",
      "       'Inpatient_daynight_ratio', 'Care_intensity', 'age_group',\n",
      "       'closingcode_0', 'closingcode_1', 'closingcode_2', 'closingcode_3',\n",
      "       'closingcode_4', 'closingcode_5', 'closingcode_6', 'closingcode_9',\n",
      "       'aftercode_1', 'aftercode_2', 'aftercode_3', 'aftercode_4',\n",
      "       'aftercode_5', 'gender_0', 'F', 'M', 'MiddleChildhood', 'Preschooler',\n",
      "       'Teenager'],\n",
      "      dtype='object')\n"
     ]
    },
    {
     "data": {
      "text/plain": [
       "count    22676.000000\n",
       "mean        89.416431\n",
       "std        134.491413\n",
       "min          0.000000\n",
       "25%         16.000000\n",
       "50%         50.000000\n",
       "75%        110.000000\n",
       "max       4159.000000\n",
       "Name: Count_visit, dtype: float64"
      ]
     },
     "execution_count": 29,
     "metadata": {},
     "output_type": "execute_result"
    }
   ],
   "source": [
    "# We removed some outliers, this is containing all the features not the ones related to diagnoses and medications like 'num_diagnoses', 'num_medications': 17,125 episodes\n",
    "final_episodes = pd.read_csv(\"/home/kabank/workbench/.conda/analysis/kabank-data/final_episodes.csv\")\n",
    "fullHot_episodes = pd.read_csv(\"/home/kabank/workbench/.conda/analysis/kabank-data/final_episodes4.csv\") \n",
    "print(final_episodes['gender'].value_counts())\n",
    "print(final_episodes.shape)\n",
    "print(fullHot_episodes.shape)\n",
    "final_episodes = pd.merge(final_episodes, fullHot_episodes[['episode_id', 'num_diagnoses', 'num_medications']], on='episode_id', how='inner')\n",
    "print(final_episodes.shape)\n",
    "\n",
    "final_episodes['gender'] = final_episodes['gender'].replace({'M': 0, 'F': 1, np.nan: 2}).astype(int)\n",
    "\n",
    "final_episodes.loc[final_episodes[\"age\"].between(0, 5), [\"age_group\"]] = \"Preschooler\"\n",
    "final_episodes.loc[final_episodes[\"age\"].between(6, 11), [\"age_group\"]] = \"MiddleChildhood\"\n",
    "final_episodes.loc[final_episodes[\"age\"].between(12, 18), [\"age_group\"]] = \"Teenager\" \n",
    "final_episodes.loc[final_episodes[\"age\"].between(19, 60), [\"age_group\"]] = \"Adult\"\n",
    "\n",
    "fullHot_episodes.loc[fullHot_episodes[\"age\"].between(0, 5), [\"age_group\"]] = \"Preschooler\"\n",
    "fullHot_episodes.loc[fullHot_episodes[\"age\"].between(6, 11), [\"age_group\"]] = \"MiddleChildhood\"\n",
    "fullHot_episodes.loc[fullHot_episodes[\"age\"].between(12, 18), [\"age_group\"]] = \"Teenager\" \n",
    "fullHot_episodes.loc[fullHot_episodes[\"age\"].between(19, 60), [\"age_group\"]] = \"Adult\"\n",
    "\n",
    "fullHot_episodes.to_csv('/home/kabank/workbench/.conda/analysis/kabank-data/new-data/fullHot_episodes.csv', index=False)\n",
    "final_episodes.to_csv('/home/kabank/workbench/.conda/analysis/kabank-data/new-data/final_episodes.csv', index=False)\n",
    "print('Number of rows in final_episodes:\\n',len(final_episodes))\n",
    "print('Columns of final_episodes:\\n', final_episodes.columns)\n",
    "print('\\n')\n",
    "print('Number of rows in fullHot_episodes:\\n',len(fullHot_episodes))\n",
    "print('Columns of fullHot_episodes:\\n', fullHot_episodes.columns)\n",
    "fullHot_episodes['Count_visit'].describe()"
   ]
  },
  {
   "cell_type": "code",
   "execution_count": 39,
   "metadata": {},
   "outputs": [
    {
     "name": "stdout",
     "output_type": "stream",
     "text": [
      "(22676, 59)\n",
      "(16552, 2)\n",
      "(22676, 60)\n",
      "(4463, 2)\n",
      "(22676, 61)\n",
      "22676\n"
     ]
    }
   ],
   "source": [
    "# Merging of fullHot_episodes and ICD10 and medications(ATC4)\n",
    "\n",
    "print(fullHot_episodes.shape)\n",
    "print(diagnoses_ICD10_list_df.shape)\n",
    "\n",
    "fullHot_episodes = pd.read_csv(\"/home/kabank/workbench/.conda/analysis/kabank-data/new-data/fullHot_episodes.csv\") \n",
    "Full_ICD10 = pd.merge(fullHot_episodes, diagnoses_ICD10_list_df[['episode_id', 'diagnosis_ICD10']], on='episode_id', how='left')\n",
    "\n",
    "print(Full_ICD10.shape)\n",
    "print(prescriptions_ATC4_list_df.shape)\n",
    "\n",
    "Full_ICD10_ATC4 = pd.merge(Full_ICD10, prescriptions_ATC4_list_df[['episode_id', 'ATC4']], on='episode_id', how='left')\n",
    "\n",
    "print(Full_ICD10_ATC4.shape)\n",
    "Full_ICD10_ATC4.rename(columns={'diagnosis_ICD10': 'actual_diag_ICD10'}, inplace=True)\n",
    "Full_ICD10_ATC4.rename(columns={'ATC4': 'actual_med_ATC4'}, inplace=True)\n",
    "\n",
    "print(len(Full_ICD10_ATC4))\n",
    "# Full_ICD10_ATC4[['episode_id', 'actual_diag_ICD10', 'actual_med_ATC4']]\n",
    "# Full_ICD10_ATC4.columns\n",
    "# prescriptions_ATC4_list_df.head(10)\n",
    "# Full_ICD10_ATC4.head()\n",
    "\n",
    "Full_ICD10_ATC4.to_csv('/home/kabank/workbench/.conda/analysis/kabank-data/new-data/Full_ICD10_ATC4.csv', index=False)\n",
    "\n",
    "\n"
   ]
  },
  {
   "cell_type": "code",
   "execution_count": 43,
   "metadata": {},
   "outputs": [
    {
     "name": "stdout",
     "output_type": "stream",
     "text": [
      "(22676, 59)\n",
      "(16390, 2)\n",
      "(22676, 60)\n",
      "(4463, 2)\n",
      "(22676, 61)\n",
      "22676\n"
     ]
    }
   ],
   "source": [
    "# it looks like merging of fullHot_episodes and actual diagnoses(Phecodes) and medications(ATC4)\n",
    "\n",
    "print(fullHot_episodes.shape)\n",
    "print(diagnoses_phecode_list_df.shape)\n",
    "Full_Phecode = pd.merge(fullHot_episodes, diagnoses_phecode_list_df[['episode_id', 'diagnoses']], on='episode_id', how='left')\n",
    "print(Full_Phecode.shape)\n",
    "print(prescriptions_ATC4_list_df.shape)\n",
    "Full_Phecode_ATC4 = pd.merge(Full_Phecode, prescriptions_ATC4_list_df[['episode_id', 'ATC4']], on='episode_id', how='left')\n",
    "print(Full_Phecode_ATC4.shape)\n",
    "Full_Phecode_ATC4.rename(columns={'diagnoses': 'actual_diag_Phe'}, inplace=True)\n",
    "Full_Phecode_ATC4.rename(columns={'ATC4': 'actual_med_ATC4'}, inplace=True)\n",
    "\n",
    "print(len(Full_Phecode_ATC4))\n",
    "# Full_Phecode_ATC4.columns\n",
    "# Full_Phecode_ATC4.head(30)\n",
    "\n",
    "Full_Phecode_ATC4.to_csv('/home/kabank/workbench/.conda/analysis/kabank-data/new-data/Full_Phecode_ATC4.csv', index=False)\n"
   ]
  },
  {
   "cell_type": "code",
   "execution_count": 48,
   "metadata": {},
   "outputs": [
    {
     "name": "stdout",
     "output_type": "stream",
     "text": [
      "(22676, 59)\n",
      "(16390, 2)\n",
      "(22676, 60)\n",
      "(4463, 2)\n",
      "22676\n"
     ]
    }
   ],
   "source": [
    "# it looks like merging of fullHot_episodes and actual diagnoses(Phecodes) and medications(Full ATC)\n",
    "\n",
    "print(fullHot_episodes.shape)\n",
    "print(diagnoses_phecode_list_df.shape)\n",
    "Full_Phecode = pd.merge(fullHot_episodes, diagnoses_phecode_list_df[['episode_id', 'diagnoses']], on='episode_id', how='left')\n",
    "print(Full_Phecode.shape)\n",
    "print(prescriptions_ATC_list_df.shape)\n",
    "Full_Phecode_ATC = pd.merge(Full_Phecode, prescriptions_ATC_list_df[['episode_id', 'atc_code']], on='episode_id', how='left')\n",
    "Full_Phecode_ATC.rename(columns={'diagnoses': 'actual_diag_Phe'}, inplace=True)\n",
    "Full_Phecode_ATC.rename(columns={'atc_code': 'actual_med_Full_ATC'}, inplace=True)\n",
    "\n",
    "print(len(Full_Phecode_ATC))\n",
    "#Full_Phecode_ATC[['actual_diag_Phe', 'actual_med_Full_ATC']]\n",
    "\n",
    "Full_Phecode_ATC.to_csv('/home/kabank/workbench/.conda/analysis/kabank-data/new-data/Full_Phecode_ATC.csv', index=False)\n",
    "#Full_Phecode_ATC.head(30)"
   ]
  },
  {
   "cell_type": "code",
   "execution_count": 51,
   "metadata": {},
   "outputs": [
    {
     "name": "stdout",
     "output_type": "stream",
     "text": [
      "(22676, 59)\n",
      "(16552, 2)\n",
      "(22676, 60)\n",
      "(4463, 2)\n",
      "(22676, 61)\n",
      "22676\n"
     ]
    }
   ],
   "source": [
    "# it looks like merging of fullHot_episodes and actual diagnoses(ICD10) and medications(Full ATC)\n",
    "print(fullHot_episodes.shape)\n",
    "print(diagnoses_ICD10_list_df.shape)\n",
    "\n",
    "Full_ICD10 = pd.merge(fullHot_episodes, diagnoses_ICD10_list_df, on='episode_id', how='left')\n",
    "print(Full_ICD10.shape)\n",
    "print(prescriptions_ATC_list_df.shape)\n",
    "Full_ICD10_ATC = pd.merge(Full_ICD10, prescriptions_ATC_list_df[['episode_id', 'atc_code']], on='episode_id', how='left')\n",
    "print(Full_ICD10_ATC.shape)\n",
    "Full_ICD10_ATC.rename(columns={'diagnosis_ICD10': 'actual_diag_ICD10'}, inplace=True)\n",
    "Full_ICD10_ATC.rename(columns={'atc_code': 'actual_med_Full_ATC'}, inplace=True)\n",
    "Full_ICD10_ATC.to_csv('/home/kabank/workbench/.conda/analysis/kabank-data/new-data/Full_ICD10_ATC.csv', index=False)\n",
    "print(len(Full_ICD10_ATC))\n",
    "# Full_ICD10_ATC.columns\n",
    "# Full_ICD10_ATC.head()"
   ]
  }
 ],
 "metadata": {
  "kernelspec": {
   "display_name": "My Kernel",
   "language": "python",
   "name": "mykernel"
  },
  "language_info": {
   "codemirror_mode": {
    "name": "ipython",
    "version": 3
   },
   "file_extension": ".py",
   "mimetype": "text/x-python",
   "name": "python",
   "nbconvert_exporter": "python",
   "pygments_lexer": "ipython3",
   "version": "3.8.8"
  },
  "orig_nbformat": 4
 },
 "nbformat": 4,
 "nbformat_minor": 2
}
